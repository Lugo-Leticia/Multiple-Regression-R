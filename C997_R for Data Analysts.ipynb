{
 "cells": [
  {
   "cell_type": "code",
   "execution_count": 1,
   "metadata": {},
   "outputs": [
    {
     "name": "stderr",
     "output_type": "stream",
     "text": [
      "Loading required package: foreach\n",
      "Loaded glmnet 2.0-16\n",
      "\n",
      "\n",
      "Attaching package: 'dplyr'\n",
      "\n",
      "The following objects are masked from 'package:stats':\n",
      "\n",
      "    filter, lag\n",
      "\n",
      "The following objects are masked from 'package:base':\n",
      "\n",
      "    intersect, setdiff, setequal, union\n",
      "\n"
     ]
    }
   ],
   "source": [
    "library(ggplot2)\n",
    "library(datasets)\n",
    "library(glmnet)\n",
    "require(stats)\n",
    "library(dplyr)"
   ]
  },
  {
   "cell_type": "code",
   "execution_count": 2,
   "metadata": {},
   "outputs": [],
   "source": [
    "#Based on the given spread sheet, two vectors are made to build the dataframe.\n",
    "years = c(2010, 2011,2012,2013,2014,2015,2016)\n",
    "population_UT = c(2775326, 2816124, 2855782, 2902663, 2941836, 2990632, 3051217)\n",
    "df = data.frame(years, population_UT)"
   ]
  },
  {
   "cell_type": "code",
   "execution_count": 3,
   "metadata": {},
   "outputs": [
    {
     "data": {
      "text/html": [
       "<table>\n",
       "<thead><tr><th scope=col>years</th><th scope=col>population_UT</th></tr></thead>\n",
       "<tbody>\n",
       "\t<tr><td>2010   </td><td>2775326</td></tr>\n",
       "\t<tr><td>2011   </td><td>2816124</td></tr>\n",
       "\t<tr><td>2012   </td><td>2855782</td></tr>\n",
       "\t<tr><td>2013   </td><td>2902663</td></tr>\n",
       "\t<tr><td>2014   </td><td>2941836</td></tr>\n",
       "\t<tr><td>2015   </td><td>2990632</td></tr>\n",
       "\t<tr><td>2016   </td><td>3051217</td></tr>\n",
       "</tbody>\n",
       "</table>\n"
      ],
      "text/latex": [
       "\\begin{tabular}{r|ll}\n",
       " years & population\\_UT\\\\\n",
       "\\hline\n",
       "\t 2010    & 2775326\\\\\n",
       "\t 2011    & 2816124\\\\\n",
       "\t 2012    & 2855782\\\\\n",
       "\t 2013    & 2902663\\\\\n",
       "\t 2014    & 2941836\\\\\n",
       "\t 2015    & 2990632\\\\\n",
       "\t 2016    & 3051217\\\\\n",
       "\\end{tabular}\n"
      ],
      "text/markdown": [
       "\n",
       "| years | population_UT |\n",
       "|---|---|\n",
       "| 2010    | 2775326 |\n",
       "| 2011    | 2816124 |\n",
       "| 2012    | 2855782 |\n",
       "| 2013    | 2902663 |\n",
       "| 2014    | 2941836 |\n",
       "| 2015    | 2990632 |\n",
       "| 2016    | 3051217 |\n",
       "\n"
      ],
      "text/plain": [
       "  years population_UT\n",
       "1 2010  2775326      \n",
       "2 2011  2816124      \n",
       "3 2012  2855782      \n",
       "4 2013  2902663      \n",
       "5 2014  2941836      \n",
       "6 2015  2990632      \n",
       "7 2016  3051217      "
      ]
     },
     "metadata": {},
     "output_type": "display_data"
    }
   ],
   "source": [
    "#Look at the dataframe.\n",
    "df"
   ]
  },
  {
   "cell_type": "code",
   "execution_count": 4,
   "metadata": {},
   "outputs": [
    {
     "name": "stdout",
     "output_type": "stream",
     "text": [
      "'data.frame':\t7 obs. of  2 variables:\n",
      " $ years        : num  2010 2011 2012 2013 2014 ...\n",
      " $ population_UT: num  2775326 2816124 2855782 2902663 2941836 ...\n"
     ]
    }
   ],
   "source": [
    "#Check the structure of the variables from the dataframe.\n",
    "str(df)"
   ]
  },
  {
   "cell_type": "code",
   "execution_count": 5,
   "metadata": {},
   "outputs": [
    {
     "data": {
      "image/png": "[encoded data removed]",
      "text/plain": [
       "Plot with title \"Scatterplot\""
      ]
     },
     "metadata": {},
     "output_type": "display_data"
    }
   ],
   "source": [
    "#Take a look at the plot made with the original data of the vectos. The scatterplot gives a positive pattern.\n",
    "plot(years, population_UT, main = \"Scatterplot\")"
   ]
  },
  {
   "cell_type": "code",
   "execution_count": 6,
   "metadata": {},
   "outputs": [
    {
     "data": {
      "text/html": [
       "<table>\n",
       "<thead><tr><th scope=col>mean_score</th><th scope=col>median_score</th><th scope=col>sd_score</th></tr></thead>\n",
       "<tbody>\n",
       "\t<tr><td>2904797 </td><td>2902663 </td><td>97648.19</td></tr>\n",
       "</tbody>\n",
       "</table>\n"
      ],
      "text/latex": [
       "\\begin{tabular}{r|lll}\n",
       " mean\\_score & median\\_score & sd\\_score\\\\\n",
       "\\hline\n",
       "\t 2904797  & 2902663  & 97648.19\\\\\n",
       "\\end{tabular}\n"
      ],
      "text/markdown": [
       "\n",
       "| mean_score | median_score | sd_score |\n",
       "|---|---|---|\n",
       "| 2904797  | 2902663  | 97648.19 |\n",
       "\n"
      ],
      "text/plain": [
       "  mean_score median_score sd_score\n",
       "1 2904797    2902663      97648.19"
      ]
     },
     "metadata": {},
     "output_type": "display_data"
    }
   ],
   "source": [
    "#summarize the statistics of the whole data frame.\n",
    "df %>% \n",
    "      summarize(mean_score = mean(population_UT), \n",
    "            median_score = median(population_UT),\n",
    "            sd_score = sd(population_UT))"
   ]
  },
  {
   "cell_type": "code",
   "execution_count": 7,
   "metadata": {},
   "outputs": [],
   "source": [
    "#Create a new variable of population managing smaller numbers than the original. \n",
    "#Create a new dataframe with the new variable.\n",
    "total_population = round(population_UT/1000000,2)\n",
    "df_clean = df %>% mutate(total_population)"
   ]
  },
  {
   "cell_type": "code",
   "execution_count": 8,
   "metadata": {},
   "outputs": [
    {
     "data": {
      "text/html": [
       "<table>\n",
       "<thead><tr><th scope=col>correlation</th></tr></thead>\n",
       "<tbody>\n",
       "\t<tr><td>0.9969</td></tr>\n",
       "</tbody>\n",
       "</table>\n"
      ],
      "text/latex": [
       "\\begin{tabular}{r|l}\n",
       " correlation\\\\\n",
       "\\hline\n",
       "\t 0.9969\\\\\n",
       "\\end{tabular}\n"
      ],
      "text/markdown": [
       "\n",
       "| correlation |\n",
       "|---|\n",
       "| 0.9969 |\n",
       "\n"
      ],
      "text/plain": [
       "  correlation\n",
       "1 0.9969     "
      ]
     },
     "metadata": {},
     "output_type": "display_data"
    }
   ],
   "source": [
    "#Compute the correlation of the two vectos. \n",
    "#The correlation is almost 1 which means a strong positive correlation.\n",
    "#This result agrees with the scatterplot.\n",
    "df_clean %>% \n",
    "  summarize(correlation = round(cor(total_population, years),4))"
   ]
  },
  {
   "cell_type": "code",
   "execution_count": 9,
   "metadata": {
    "scrolled": false
   },
   "outputs": [
    {
     "data": {
      "image/png": "[encoded data removed]",
      "text/plain": [
       "plot without title"
      ]
     },
     "metadata": {},
     "output_type": "display_data"
    }
   ],
   "source": [
    "#Plot of the regression model with scatterplot \n",
    "ggplot(df_clean, aes(x = years, y = total_population)) +\n",
    "  geom_point() + \n",
    "  labs(x = \"years\", y = \"population\", title = \"Regression Model\") +\n",
    "  geom_smooth(method = \"lm\", se = FALSE)"
   ]
  },
  {
   "cell_type": "code",
   "execution_count": 10,
   "metadata": {},
   "outputs": [],
   "source": [
    "#Save the regression model in a variable.\n",
    "model_population_1 = lm(total_population ~ years, data = df_clean)"
   ]
  },
  {
   "cell_type": "code",
   "execution_count": 11,
   "metadata": {},
   "outputs": [
    {
     "data": {
      "text/html": [
       "2.954"
      ],
      "text/latex": [
       "2.954"
      ],
      "text/markdown": [
       "2.954"
      ],
      "text/plain": [
       "[1] 2.954"
      ]
     },
     "metadata": {},
     "output_type": "display_data"
    }
   ],
   "source": [
    "#check the regression line formula predicting population from 2014 year. \n",
    "#The 2014 result is 2.941836 which is close to the result.\n",
    "predicted_population = round(-87.8774 + (0.0451*2014),4)\n",
    "predicted_population"
   ]
  },
  {
   "cell_type": "code",
   "execution_count": 12,
   "metadata": {},
   "outputs": [
    {
     "data": {
      "text/plain": [
       "\n",
       "Call:\n",
       "lm(formula = total_population ~ years, data = df_clean)\n",
       "\n",
       "Residuals:\n",
       "        1         2         3         4         5         6         7 \n",
       " 0.006071  0.002143 -0.001786 -0.005714 -0.009643 -0.003571  0.012500 \n",
       "\n",
       "Coefficients:\n",
       "              Estimate Std. Error t value Pr(>|t|)    \n",
       "(Intercept) -85.522500   3.133739  -27.29 1.24e-06 ***\n",
       "years         0.043929   0.001557   28.22 1.05e-06 ***\n",
       "---\n",
       "Signif. codes:  0 '***' 0.001 '**' 0.01 '*' 0.05 '.' 0.1 ' ' 1\n",
       "\n",
       "Residual standard error: 0.008238 on 5 degrees of freedom\n",
       "Multiple R-squared:  0.9938,\tAdjusted R-squared:  0.9925 \n",
       "F-statistic: 796.3 on 1 and 5 DF,  p-value: 1.047e-06\n"
      ]
     },
     "metadata": {},
     "output_type": "display_data"
    }
   ],
   "source": [
    "#The summary of the regression model where we can find coefficients, \n",
    "#and other information.\n",
    "summary(model_population_1)"
   ]
  },
  {
   "cell_type": "code",
   "execution_count": 13,
   "metadata": {},
   "outputs": [
    {
     "data": {
      "text/html": [
       "<dl class=dl-horizontal>\n",
       "\t<dt>(Intercept)</dt>\n",
       "\t\t<dd>-85.5224999999838</dd>\n",
       "\t<dt>years</dt>\n",
       "\t\t<dd>0.0439285714285634</dd>\n",
       "</dl>\n"
      ],
      "text/latex": [
       "\\begin{description*}\n",
       "\\item[(Intercept)] -85.5224999999838\n",
       "\\item[years] 0.0439285714285634\n",
       "\\end{description*}\n"
      ],
      "text/markdown": [
       "(Intercept)\n",
       ":   -85.5224999999838years\n",
       ":   0.0439285714285634\n",
       "\n"
      ],
      "text/plain": [
       " (Intercept)        years \n",
       "-85.52250000   0.04392857 "
      ]
     },
     "metadata": {},
     "output_type": "display_data"
    }
   ],
   "source": [
    "coef(model_population_1)"
   ]
  },
  {
   "cell_type": "code",
   "execution_count": 14,
   "metadata": {},
   "outputs": [
    {
     "data": {
      "text/html": [
       "<table>\n",
       "<thead><tr><th></th><th scope=col>2.5 %</th><th scope=col>97.5 %</th></tr></thead>\n",
       "<tbody>\n",
       "\t<tr><th scope=row>(Intercept)</th><td>-93.57803136</td><td>-77.46696864</td></tr>\n",
       "\t<tr><th scope=row>years</th><td>  0.03992682</td><td>  0.04793032</td></tr>\n",
       "</tbody>\n",
       "</table>\n"
      ],
      "text/latex": [
       "\\begin{tabular}{r|ll}\n",
       "  & 2.5 \\% & 97.5 \\%\\\\\n",
       "\\hline\n",
       "\t(Intercept) & -93.57803136 & -77.46696864\\\\\n",
       "\tyears &   0.03992682 &   0.04793032\\\\\n",
       "\\end{tabular}\n"
      ],
      "text/markdown": [
       "\n",
       "| <!--/--> | 2.5 % | 97.5 % |\n",
       "|---|---|---|\n",
       "| (Intercept) | -93.57803136 | -77.46696864 |\n",
       "| years |   0.03992682 |   0.04793032 |\n",
       "\n"
      ],
      "text/plain": [
       "            2.5 %        97.5 %      \n",
       "(Intercept) -93.57803136 -77.46696864\n",
       "years         0.03992682   0.04793032"
      ]
     },
     "metadata": {},
     "output_type": "display_data"
    }
   ],
   "source": [
    "confint(model_population_1)"
   ]
  },
  {
   "cell_type": "code",
   "execution_count": 15,
   "metadata": {},
   "outputs": [],
   "source": [
    "#prediction numbers from years 2020 to 2025.\n",
    "predictions = predict(model_population_1, \n",
    "                      data.frame(years = c(2020,2021,2022,2023,2024,2025)), \n",
    "                      interval =\"prediction\", level = 0.95)"
   ]
  }
 ],
 "metadata": {
  "kernelspec": {
   "display_name": "R [conda env:R_environtment]",
   "language": "R",
   "name": "conda-env-R_environtment-r"
  },
  "language_info": {
   "codemirror_mode": "r",
   "file_extension": ".r",
   "mimetype": "text/x-r-source",
   "name": "R",
   "pygments_lexer": "r",
   "version": "3.6.1"
  }
 },
 "nbformat": 4,
 "nbformat_minor": 4
}
